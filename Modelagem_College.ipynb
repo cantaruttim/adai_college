{
  "nbformat": 4,
  "nbformat_minor": 0,
  "metadata": {
    "colab": {
      "provenance": [],
      "authorship_tag": "ABX9TyPJMDAQ3D/Aak5Ngy2DNm/3",
      "include_colab_link": true
    },
    "kernelspec": {
      "name": "python3",
      "display_name": "Python 3"
    },
    "language_info": {
      "name": "python"
    }
  },
  "cells": [
    {
      "cell_type": "markdown",
      "metadata": {
        "id": "view-in-github",
        "colab_type": "text"
      },
      "source": [
        "<a href=\"https://colab.research.google.com/github/cantaruttim/adai_college/blob/main/Modelagem_College.ipynb\" target=\"_parent\"><img src=\"https://colab.research.google.com/assets/colab-badge.svg\" alt=\"Open In Colab\"/></a>"
      ]
    },
    {
      "cell_type": "code",
      "execution_count": 1,
      "metadata": {
        "id": "h8JBILeI_6ww"
      },
      "outputs": [],
      "source": [
        "import pandas as pd\n",
        "import os\n",
        "import re\n",
        "from datetime import datetime, timedelta"
      ]
    },
    {
      "cell_type": "code",
      "source": [
        "def valida_arquivo(arquivo):\n",
        "    extensao = os.path.splitext(arquivo)[1].lower()\n",
        "\n",
        "    if extensao == \".csv\":\n",
        "        return pd.read_csv(f\"{arquivo}\", sep=\";\")\n",
        "    elif extensao == \".xlsx\":\n",
        "        return pd.read_excel(f\"{arquivo}\")\n",
        "    else:\n",
        "        raise ValueError(\"Extensão de arquivo não suportada. Use .csv ou .xlsx\")\n"
      ],
      "metadata": {
        "id": "NaBIQi3GdYv1"
      },
      "execution_count": 2,
      "outputs": []
    },
    {
      "cell_type": "markdown",
      "source": [
        "# Gera a Base de alunos"
      ],
      "metadata": {
        "id": "wEKL2JeGYv2D"
      }
    },
    {
      "cell_type": "code",
      "source": [
        "def formatar_whatsapp(numero):\n",
        "    if pd.isnull(numero):\n",
        "        return numero\n",
        "    numeros = re.sub(r\"\\D\", \"\", numero)\n",
        "\n",
        "    # Verifica se tem 11 dígitos (formato brasileiro com DDD + 9 dígitos)\n",
        "    if len(numeros) == 11:\n",
        "        ddd = numeros[:2]\n",
        "        parte1 = numeros[2:7]\n",
        "        parte2 = numeros[7:]\n",
        "        return f\"({ddd}) {parte1}-{parte2}\"\n",
        "    else:\n",
        "        # Retorna como está se não tiver o padrão esperado\n",
        "        return numero\n",
        "\n",
        "def gerar_matricula(turma, telefone):\n",
        "    turma_str = str(turma)\n",
        "    primeiros_4 = turma_str[:4]\n",
        "    ultimos_2 = turma_str[-2:]\n",
        "\n",
        "    telefone_numeros = re.sub(r'\\D', '', str(telefone))\n",
        "    ultimos_4_telefone = telefone_numeros[-4:] if len(telefone_numeros) >= 4 else telefone_numeros\n",
        "\n",
        "    resultado = primeiros_4 + ultimos_2 + ultimos_4_telefone\n",
        "\n",
        "    return resultado\n",
        "\n",
        "\n",
        "def gera_base_alunos(df):\n",
        "    arquivo = \"alunos_pb\"\n",
        "\n",
        "    df[\"Nome\"] = df[\"Nome\"].str.strip()\n",
        "    df[\"Email\"] = df[\"Email\"].str.strip()\n",
        "\n",
        "    df[\"Whatssap\"] = df[\"Whatssap\"].apply(formatar_whatsapp)\n",
        "    df[\"Whatssap\"] = df[\"Whatssap\"].str.strip()\n",
        "\n",
        "    # Aplicando a função a uma nova coluna\n",
        "    df['Matricula'] = df.apply(\n",
        "        lambda row:\n",
        "                gerar_matricula(\n",
        "                  row['Turma'],\n",
        "                  row['Whatssap']\n",
        "                ),\n",
        "            axis=1\n",
        "    )\n",
        "\n",
        "    df[\"Matricula\"] = df[\"Matricula\"].astype(str)\n",
        "    df[\"Matricula\"] = pd.to_numeric(df[\"Matricula\"], errors='coerce').fillna(0).astype(int)\n",
        "\n",
        "    qtd_alunos_turma = (\n",
        "        df.groupby(\"Turma\")\n",
        "          .size()\n",
        "          .reset_index(name=\"qtdAlunosTurma\")\n",
        "    )\n",
        "\n",
        "    df = df.merge(qtd_alunos_turma, on=\"Turma\", how=\"left\")\n",
        "\n",
        "    df[\"qtdAlunosTurma\"] = df[\"qtdAlunosTurma\"].astype(int)\n",
        "\n",
        "    df.to_excel(f\"{arquivo}.xlsx\", index=False)\n",
        "\n",
        "df = pd.read_csv(\"/content/alunos.csv\", sep=\";\")\n",
        "gera_base_alunos(df)"
      ],
      "metadata": {
        "id": "6HzzRp7cc5py"
      },
      "execution_count": 26,
      "outputs": []
    },
    {
      "cell_type": "code",
      "source": [
        "alunos = pd.read_excel(\"/content/alunos_pb.xlsx\")\n",
        "alunos"
      ],
      "metadata": {
        "id": "Js0vLYb7bk5d"
      },
      "execution_count": null,
      "outputs": []
    },
    {
      "cell_type": "markdown",
      "source": [
        "## Base para Análise das Frequências"
      ],
      "metadata": {
        "id": "xtt24DaKnotW"
      }
    },
    {
      "cell_type": "code",
      "source": [],
      "metadata": {
        "id": "_HZc4Mt8lm1t"
      },
      "execution_count": null,
      "outputs": []
    },
    {
      "cell_type": "markdown",
      "source": [
        "# Gera a base Módulo"
      ],
      "metadata": {
        "id": "gfGFddQkbd4o"
      }
    },
    {
      "cell_type": "code",
      "source": [
        "meses_pt_en = {\n",
        "    \"jan\": \"Jan\", \"fev\": \"Feb\", \"mar\": \"Mar\", \"abr\": \"Apr\", \"mai\": \"May\", \"jun\": \"Jun\", \"jul\": \"Jul\", \"ago\": \"Aug\", \"set\": \"Sep\", \"out\": \"Oct\", \"nov\": \"Nov\", \"dez\": \"Dec\"\n",
        "}\n",
        "\n",
        "def data_valida(data_str, formato=\"%Y-%m-%d\"):\n",
        "    try:\n",
        "        data = datetime.strptime(data_str, formato)\n",
        "    except ValueError:\n",
        "        return False  # Data inválida ou formato errado\n",
        "\n",
        "    hoje = datetime.today()\n",
        "    limite = data + timedelta(days=7)\n",
        "    return hoje <= limite\n",
        "\n",
        "def traduzir_mes(data_str):\n",
        "    if not data_str:\n",
        "        return None\n",
        "    for pt, en in meses_pt_en.items():\n",
        "        data_str = data_str.lower().replace(f\"/{pt}\", f\"/{en}\")\n",
        "    return data_str\n",
        "\n",
        "modulo = pd.read_csv(\"/content/Módulos.csv\", sep=\";\")\n",
        "modulo[\"status_data\"] = modulo[\"DATA\"].apply(lambda x: data_valida(x))\n",
        "\n",
        "modulo[\"DATA\"] = modulo[\"DATA\"].fillna(\"\").str.strip()\n",
        "modulo[\"DATA\"] = modulo[\"DATA\"].apply(\n",
        "    lambda x: f\"{x}/2025\" if x else None\n",
        ")\n",
        "\n",
        "modulo[\"DATA\"] = modulo[\"DATA\"].apply(traduzir_mes)\n",
        "modulo[\"DATA\"] = pd.to_datetime(modulo[\"DATA\"], format=\"%d/%b/%Y\", errors=\"coerce\")\n",
        "\n",
        "# Extrai o ano\n",
        "modulo[\"Ano\"] = modulo[\"DATA\"].dt.year\n",
        "\n",
        "modulo = modulo[[\"DATA\", \"Ano\", \"DIA DA SEMANA\", \"ATIVIDADE\", \"MÓDULO\", \"Semestre\", \"status_data\"]]\n",
        "\n",
        "\n",
        "modulo2 = (\n",
        "    modulo.groupby(\"Semestre\")\n",
        "      .size()\n",
        "      .reset_index(name=\"aulas_por_semestre\")\n",
        ")\n",
        "\n",
        "# Cria a coluna 'ANOMES' no formato YYYYMM\n",
        "modulo['ANOMES'] = modulo['DATA'].dt.strftime('%Y%m')\n",
        "\n",
        "# Agrupa por 'ANOMES' e 'módulo' e conta a quantidade de aulas\n",
        "# Corrigindo o nome da coluna de 'módulo' para 'MÓDULO'\n",
        "aulas_por_anomes_modulo = modulo.groupby(['ANOMES', 'MÓDULO']).size().reset_index(name='quantidade_aulas')\n",
        "\n",
        "modulo = modulo.merge(modulo2,\n",
        "                      on=\"Semestre\",\n",
        "                      how=\"left\"\n",
        ")\n",
        "\n",
        "modulo = modulo.merge(\n",
        "    aulas_por_anomes_modulo,\n",
        "    on=['ANOMES', 'MÓDULO'],\n",
        "    how=\"left\"\n",
        ")\n",
        "\n",
        "# Corrigindo a lista de nomes de colunas para incluir 'ANOMES'\n",
        "modulo.columns = [\"data\",\n",
        "                  \"ano\",\n",
        "                  \"dia_semana\",\n",
        "                  \"atividade\",\n",
        "                  \"módulo\",\n",
        "                  \"semestre\",\n",
        "                  \"status_data\",\n",
        "                  \"ANOMES\",\n",
        "                  \"aulas_por_semestre\",\n",
        "                  \"quantidade_aulas\"]\n",
        "\n",
        "modulo"
      ],
      "metadata": {
        "id": "cF4Y-cJRgTRk"
      },
      "execution_count": null,
      "outputs": []
    },
    {
      "cell_type": "markdown",
      "source": [
        "# Gera a base de Atividades"
      ],
      "metadata": {
        "id": "g9Q8T6ebZODC"
      }
    },
    {
      "cell_type": "code",
      "source": [
        "\n",
        "def ler_arquivo_excel(file_path, sheet):\n",
        "    try:\n",
        "        df = pd.read_excel(\n",
        "            file_path,\n",
        "            sheet_name=sheet,\n",
        "            engine=\"openpyxl\"\n",
        "        )\n",
        "    except FileNotFoundError:\n",
        "        print(f\"Arquivo não encontrado: {file_path}\")\n",
        "    except ValueError as e:\n",
        "        print(f\"Erro ao ler a planilha: {e}\")\n",
        "    except Exception as e:\n",
        "        print(f\"Ocorreu um erro: {e}\")\n",
        "\n",
        "    return df\n",
        "atividades = ler_arquivo_excel(\"/content/atividades.xlsx\", \"Sheet1\")\n",
        "atividades"
      ],
      "metadata": {
        "id": "Wbc5cs9zZQry"
      },
      "execution_count": null,
      "outputs": []
    }
  ]
}